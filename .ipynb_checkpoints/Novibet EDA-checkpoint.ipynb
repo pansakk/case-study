{
 "cells": [
  {
   "cell_type": "markdown",
   "id": "7f48d64b",
   "metadata": {},
   "source": [
    "# Novibet Case Study Exploratory Data Analysis"
   ]
  },
  {
   "cell_type": "code",
   "execution_count": 62,
   "id": "4d0d1cbc",
   "metadata": {},
   "outputs": [],
   "source": [
    "#Imports\n",
    "import pandas as pd\n",
    "import numpy as np\n",
    "import datetime"
   ]
  },
  {
   "cell_type": "code",
   "execution_count": 63,
   "id": "366a801b",
   "metadata": {},
   "outputs": [],
   "source": [
    "#Data Input\n",
    "casino_users = pd.read_csv(\"Casino Users.csv\")\n",
    "customer_wallet = pd.read_csv(\"Customer Wallet.csv\")\n",
    "casino_games = pd.read_csv(\"Casino games.csv\")"
   ]
  },
  {
   "cell_type": "markdown",
   "id": "148acea9",
   "metadata": {},
   "source": [
    "## Casino Users EDA"
   ]
  },
  {
   "cell_type": "code",
   "execution_count": 64,
   "id": "c514e405",
   "metadata": {
    "scrolled": false
   },
   "outputs": [
    {
     "data": {
      "text/html": [
       "<div>\n",
       "<style scoped>\n",
       "    .dataframe tbody tr th:only-of-type {\n",
       "        vertical-align: middle;\n",
       "    }\n",
       "\n",
       "    .dataframe tbody tr th {\n",
       "        vertical-align: top;\n",
       "    }\n",
       "\n",
       "    .dataframe thead th {\n",
       "        text-align: right;\n",
       "    }\n",
       "</style>\n",
       "<table border=\"1\" class=\"dataframe\">\n",
       "  <thead>\n",
       "    <tr style=\"text-align: right;\">\n",
       "      <th></th>\n",
       "      <th>UserProfileId</th>\n",
       "      <th>BirthDate</th>\n",
       "      <th>ZipCode</th>\n",
       "      <th>CountryName</th>\n",
       "      <th>Sex</th>\n",
       "      <th>Registration Date</th>\n",
       "      <th>City</th>\n",
       "      <th>CountryId</th>\n",
       "      <th>StatusSysname</th>\n",
       "    </tr>\n",
       "  </thead>\n",
       "  <tbody>\n",
       "    <tr>\n",
       "      <th>0</th>\n",
       "      <td>1504977</td>\n",
       "      <td>1991-12-23 00:00:00.000</td>\n",
       "      <td>17342</td>\n",
       "      <td>Greece</td>\n",
       "      <td>M</td>\n",
       "      <td>2021-08-03 07:03:20.000</td>\n",
       "      <td>Athens</td>\n",
       "      <td>1</td>\n",
       "      <td>TEST</td>\n",
       "    </tr>\n",
       "    <tr>\n",
       "      <th>1</th>\n",
       "      <td>1258660</td>\n",
       "      <td>1991-07-06 00:00:00.000</td>\n",
       "      <td>15344</td>\n",
       "      <td>Greece</td>\n",
       "      <td>F</td>\n",
       "      <td>2021-01-15 09:03:21.000</td>\n",
       "      <td>pallini</td>\n",
       "      <td>1</td>\n",
       "      <td>TEST</td>\n",
       "    </tr>\n",
       "    <tr>\n",
       "      <th>2</th>\n",
       "      <td>1531613</td>\n",
       "      <td>1997-08-18 00:00:00.000</td>\n",
       "      <td>666666</td>\n",
       "      <td>Greece</td>\n",
       "      <td>M</td>\n",
       "      <td>2021-09-14 06:20:33.000</td>\n",
       "      <td>MENIDI</td>\n",
       "      <td>1</td>\n",
       "      <td>TEST</td>\n",
       "    </tr>\n",
       "    <tr>\n",
       "      <th>3</th>\n",
       "      <td>1278219</td>\n",
       "      <td>1985-02-01 00:00:00.000</td>\n",
       "      <td>14122</td>\n",
       "      <td>Greece</td>\n",
       "      <td>M</td>\n",
       "      <td>2021-01-28 14:14:02.000</td>\n",
       "      <td>Athens</td>\n",
       "      <td>1</td>\n",
       "      <td>TEST</td>\n",
       "    </tr>\n",
       "    <tr>\n",
       "      <th>4</th>\n",
       "      <td>1414194</td>\n",
       "      <td>1990-11-06 00:00:00.000</td>\n",
       "      <td>11636</td>\n",
       "      <td>Greece</td>\n",
       "      <td>M</td>\n",
       "      <td>2021-05-05 12:18:30.000</td>\n",
       "      <td>poli</td>\n",
       "      <td>1</td>\n",
       "      <td>TEST</td>\n",
       "    </tr>\n",
       "  </tbody>\n",
       "</table>\n",
       "</div>"
      ],
      "text/plain": [
       "   UserProfileId                BirthDate ZipCode CountryName Sex  \\\n",
       "0        1504977  1991-12-23 00:00:00.000   17342      Greece   M   \n",
       "1        1258660  1991-07-06 00:00:00.000   15344      Greece   F   \n",
       "2        1531613  1997-08-18 00:00:00.000  666666      Greece   M   \n",
       "3        1278219  1985-02-01 00:00:00.000   14122      Greece   M   \n",
       "4        1414194  1990-11-06 00:00:00.000   11636      Greece   M   \n",
       "\n",
       "         Registration Date     City  CountryId StatusSysname  \n",
       "0  2021-08-03 07:03:20.000   Athens          1          TEST  \n",
       "1  2021-01-15 09:03:21.000  pallini          1          TEST  \n",
       "2  2021-09-14 06:20:33.000   MENIDI          1          TEST  \n",
       "3  2021-01-28 14:14:02.000   Athens          1          TEST  \n",
       "4  2021-05-05 12:18:30.000     poli          1          TEST  "
      ]
     },
     "execution_count": 64,
     "metadata": {},
     "output_type": "execute_result"
    }
   ],
   "source": [
    "casino_users.head()"
   ]
  },
  {
   "cell_type": "code",
   "execution_count": 65,
   "id": "5549ea34",
   "metadata": {
    "scrolled": false
   },
   "outputs": [
    {
     "name": "stdout",
     "output_type": "stream",
     "text": [
      "<class 'pandas.core.frame.DataFrame'>\n",
      "RangeIndex: 10641 entries, 0 to 10640\n",
      "Data columns (total 9 columns):\n",
      " #   Column             Non-Null Count  Dtype \n",
      "---  ------             --------------  ----- \n",
      " 0   UserProfileId      10641 non-null  int64 \n",
      " 1   BirthDate          10641 non-null  object\n",
      " 2   ZipCode            10641 non-null  object\n",
      " 3   CountryName        10641 non-null  object\n",
      " 4   Sex                10641 non-null  object\n",
      " 5   Registration Date  10641 non-null  object\n",
      " 6   City               10641 non-null  object\n",
      " 7   CountryId          10641 non-null  int64 \n",
      " 8   StatusSysname      10641 non-null  object\n",
      "dtypes: int64(2), object(7)\n",
      "memory usage: 748.3+ KB\n"
     ]
    }
   ],
   "source": [
    "casino_users.info()"
   ]
  },
  {
   "cell_type": "code",
   "execution_count": 66,
   "id": "5d1bb180",
   "metadata": {},
   "outputs": [
    {
     "data": {
      "text/plain": [
       "1483445    11\n",
       "1663093    11\n",
       "1623294    10\n",
       "1532009     8\n",
       "1518098     8\n",
       "           ..\n",
       "1522853     1\n",
       "1632122     1\n",
       "1554598     1\n",
       "1582137     1\n",
       "1684717     1\n",
       "Name: UserProfileId, Length: 6029, dtype: int64"
      ]
     },
     "execution_count": 66,
     "metadata": {},
     "output_type": "execute_result"
    }
   ],
   "source": [
    "casino_users.UserProfileId.value_counts()"
   ]
  },
  {
   "cell_type": "code",
   "execution_count": 67,
   "id": "92a9b836",
   "metadata": {},
   "outputs": [],
   "source": [
    "casino_users.BirthDate = pd.to_datetime(casino_users.BirthDate)\n",
    "casino_users['Registration Date'] = pd.to_datetime(casino_users['Registration Date'])"
   ]
  },
  {
   "cell_type": "code",
   "execution_count": 68,
   "id": "f38c8e1d",
   "metadata": {},
   "outputs": [
    {
     "data": {
      "text/plain": [
       "1      8177\n",
       "175    2292\n",
       "56      153\n",
       "50        8\n",
       "24        7\n",
       "106       2\n",
       "52        2\n",
       "Name: CountryId, dtype: int64"
      ]
     },
     "execution_count": 68,
     "metadata": {},
     "output_type": "execute_result"
    }
   ],
   "source": [
    "casino_users.CountryId.value_counts()"
   ]
  },
  {
   "cell_type": "code",
   "execution_count": 69,
   "id": "c524bbb8",
   "metadata": {},
   "outputs": [
    {
     "data": {
      "text/plain": [
       "Greece            8177\n",
       "United Kingdom    2292\n",
       "Ireland            153\n",
       "Hungary              8\n",
       "Finland              7\n",
       "New Zealand          2\n",
       "India                2\n",
       "Name: CountryName, dtype: int64"
      ]
     },
     "execution_count": 69,
     "metadata": {},
     "output_type": "execute_result"
    }
   ],
   "source": [
    "casino_users.CountryName.value_counts()"
   ]
  },
  {
   "cell_type": "code",
   "execution_count": 70,
   "id": "c30bf2c7",
   "metadata": {},
   "outputs": [
    {
     "data": {
      "text/plain": [
       "ACTIVE      10432\n",
       "TEST          150\n",
       "INACTIVE       59\n",
       "Name: StatusSysname, dtype: int64"
      ]
     },
     "execution_count": 70,
     "metadata": {},
     "output_type": "execute_result"
    }
   ],
   "source": [
    "casino_users.StatusSysname.value_counts()"
   ]
  },
  {
   "cell_type": "code",
   "execution_count": 71,
   "id": "2eaa4833",
   "metadata": {},
   "outputs": [
    {
     "data": {
      "text/plain": [
       "M    8421\n",
       "F    2220\n",
       "Name: Sex, dtype: int64"
      ]
     },
     "execution_count": 71,
     "metadata": {},
     "output_type": "execute_result"
    }
   ],
   "source": [
    "casino_users.Sex.value_counts()"
   ]
  },
  {
   "cell_type": "code",
   "execution_count": 72,
   "id": "6193dc61",
   "metadata": {
    "scrolled": true
   },
   "outputs": [
    {
     "data": {
      "text/plain": [
       "34100      72\n",
       "30100      55\n",
       "35100      51\n",
       "67100      51\n",
       "42100      50\n",
       "           ..\n",
       "R42DE42     1\n",
       "187 55      1\n",
       "D07K1W0     1\n",
       "44001       1\n",
       "HA3 0SJ     1\n",
       "Name: ZipCode, Length: 2945, dtype: int64"
      ]
     },
     "execution_count": 72,
     "metadata": {},
     "output_type": "execute_result"
    }
   ],
   "source": [
    "casino_users.ZipCode.value_counts()"
   ]
  },
  {
   "cell_type": "code",
   "execution_count": 73,
   "id": "ef646099",
   "metadata": {},
   "outputs": [
    {
     "data": {
      "text/plain": [
       "Thessaloniki    439\n",
       "Athina          402\n",
       "Athens          195\n",
       "Patra           193\n",
       "London          167\n",
       "               ... \n",
       "Carlisle          1\n",
       "okehampton        1\n",
       "Kipseli           1\n",
       "Dorchester        1\n",
       "Stauroupoli       1\n",
       "Name: City, Length: 2109, dtype: int64"
      ]
     },
     "execution_count": 73,
     "metadata": {},
     "output_type": "execute_result"
    }
   ],
   "source": [
    "casino_users.City.value_counts()"
   ]
  },
  {
   "cell_type": "code",
   "execution_count": 74,
   "id": "54e6dae7",
   "metadata": {},
   "outputs": [
    {
     "data": {
      "text/plain": [
       "Athens          737\n",
       "Thessaloniki    529\n",
       "Patra           236\n",
       "London          193\n",
       "Volos           128\n",
       "               ... \n",
       "Polidrosos        1\n",
       "Harlow            1\n",
       "Southam           1\n",
       "Creswell          1\n",
       "Stauroupoli       1\n",
       "Name: City, Length: 1651, dtype: int64"
      ]
     },
     "execution_count": 74,
     "metadata": {},
     "output_type": "execute_result"
    }
   ],
   "source": [
    "casino_users.City = casino_users.City.str.lower()\n",
    "\n",
    "casino_users.City = casino_users.City.str.replace('α','a')\n",
    "casino_users.City = casino_users.City.str.replace('β','b')\n",
    "casino_users.City = casino_users.City.str.replace('γ','g')\n",
    "casino_users.City = casino_users.City.str.replace('δ','d')\n",
    "casino_users.City = casino_users.City.str.replace('ε','e')\n",
    "casino_users.City = casino_users.City.str.replace('ζ','z')\n",
    "casino_users.City = casino_users.City.str.replace('η','i')\n",
    "casino_users.City = casino_users.City.str.replace('θ','th')\n",
    "casino_users.City = casino_users.City.str.replace('ι','i')\n",
    "casino_users.City = casino_users.City.str.replace('κ','k')\n",
    "casino_users.City = casino_users.City.str.replace('λ','l')\n",
    "casino_users.City = casino_users.City.str.replace('μ','m')\n",
    "casino_users.City = casino_users.City.str.replace('ν','n')\n",
    "casino_users.City = casino_users.City.str.replace('ξ','x')\n",
    "casino_users.City = casino_users.City.str.replace('ο','o')\n",
    "casino_users.City = casino_users.City.str.replace('π','p')\n",
    "casino_users.City = casino_users.City.str.replace('ρ','r')\n",
    "casino_users.City = casino_users.City.str.replace('σ','s')\n",
    "casino_users.City = casino_users.City.str.replace('ς','s')\n",
    "casino_users.City = casino_users.City.str.replace('τ','t')\n",
    "casino_users.City = casino_users.City.str.replace('υ','i')\n",
    "casino_users.City = casino_users.City.str.replace('φ','f')\n",
    "casino_users.City = casino_users.City.str.replace('χ','ch')\n",
    "casino_users.City = casino_users.City.str.replace('ψ','ps')\n",
    "casino_users.City = casino_users.City.str.replace('ω','o')\n",
    "casino_users.City = casino_users.City.str.replace('ά','a')\n",
    "casino_users.City = casino_users.City.str.replace('ή','i')\n",
    "casino_users.City = casino_users.City.str.replace('ί','i')\n",
    "casino_users.City = casino_users.City.str.replace('ύ','i')\n",
    "casino_users.City = casino_users.City.str.replace('ό','o')\n",
    "casino_users.City = casino_users.City.str.replace('ώ','o')\n",
    "\n",
    "casino_users.City = casino_users.City.str.capitalize()\n",
    "\n",
    "casino_users.loc[casino_users.CountryName == 'Greece', \"City\"] = casino_users.loc[casino_users.CountryName == 'Greece',\"City\"].str.replace('y','i')\n",
    "casino_users.loc[casino_users.CountryName == 'Greece', \"City\"] = casino_users.loc[casino_users.CountryName == 'Greece',\"City\"].str.replace('oi','i')\n",
    "casino_users.loc[casino_users.CountryName == 'Greece', \"City\"] = casino_users.loc[casino_users.CountryName == 'Greece',\"City\"].str.replace('ei','i')\n",
    "\n",
    "casino_users.loc[casino_users.City == 'Athina', \"City\"] = 'Athens'\n",
    "casino_users.loc[casino_users.City == 'Halkida', \"City\"] = 'Chalkida'\n",
    "casino_users.loc[casino_users.City == 'Xalkida', \"City\"] = 'Chalkida'\n",
    "casino_users.loc[casino_users.City == 'Xania', \"City\"] = 'Chania'\n",
    "casino_users.loc[casino_users.City == 'Hania', \"City\"] = 'Chania'\n",
    "\n",
    "casino_users.City = casino_users.City.str.capitalize()\n",
    "\n",
    "casino_users.City.value_counts()"
   ]
  },
  {
   "cell_type": "code",
   "execution_count": 75,
   "id": "fcf8edd6",
   "metadata": {},
   "outputs": [
    {
     "data": {
      "text/html": [
       "<div>\n",
       "<style scoped>\n",
       "    .dataframe tbody tr th:only-of-type {\n",
       "        vertical-align: middle;\n",
       "    }\n",
       "\n",
       "    .dataframe tbody tr th {\n",
       "        vertical-align: top;\n",
       "    }\n",
       "\n",
       "    .dataframe thead th {\n",
       "        text-align: right;\n",
       "    }\n",
       "</style>\n",
       "<table border=\"1\" class=\"dataframe\">\n",
       "  <thead>\n",
       "    <tr style=\"text-align: right;\">\n",
       "      <th></th>\n",
       "      <th>UserProfileId</th>\n",
       "      <th>BirthDate</th>\n",
       "      <th>ZipCode</th>\n",
       "      <th>CountryName</th>\n",
       "      <th>Sex</th>\n",
       "      <th>Registration Date</th>\n",
       "      <th>City</th>\n",
       "      <th>CountryId</th>\n",
       "      <th>StatusSysname</th>\n",
       "    </tr>\n",
       "  </thead>\n",
       "  <tbody>\n",
       "    <tr>\n",
       "      <th>12</th>\n",
       "      <td>1258660</td>\n",
       "      <td>1991-07-06</td>\n",
       "      <td>15344</td>\n",
       "      <td>Greece</td>\n",
       "      <td>F</td>\n",
       "      <td>2021-01-15 09:03:21</td>\n",
       "      <td>Pallini</td>\n",
       "      <td>1</td>\n",
       "      <td>TEST</td>\n",
       "    </tr>\n",
       "    <tr>\n",
       "      <th>17</th>\n",
       "      <td>1269209</td>\n",
       "      <td>1996-05-24</td>\n",
       "      <td>18544</td>\n",
       "      <td>Greece</td>\n",
       "      <td>F</td>\n",
       "      <td>2021-01-22 10:53:41</td>\n",
       "      <td>Piraias</td>\n",
       "      <td>1</td>\n",
       "      <td>TEST</td>\n",
       "    </tr>\n",
       "    <tr>\n",
       "      <th>18</th>\n",
       "      <td>1414194</td>\n",
       "      <td>1990-11-06</td>\n",
       "      <td>11636</td>\n",
       "      <td>Greece</td>\n",
       "      <td>M</td>\n",
       "      <td>2021-05-05 12:18:30</td>\n",
       "      <td>Poli</td>\n",
       "      <td>1</td>\n",
       "      <td>TEST</td>\n",
       "    </tr>\n",
       "    <tr>\n",
       "      <th>29</th>\n",
       "      <td>1531613</td>\n",
       "      <td>1997-08-18</td>\n",
       "      <td>666666</td>\n",
       "      <td>Greece</td>\n",
       "      <td>M</td>\n",
       "      <td>2021-09-14 06:20:33</td>\n",
       "      <td>Menidi</td>\n",
       "      <td>1</td>\n",
       "      <td>TEST</td>\n",
       "    </tr>\n",
       "    <tr>\n",
       "      <th>31</th>\n",
       "      <td>1258660</td>\n",
       "      <td>1991-07-06</td>\n",
       "      <td>15344</td>\n",
       "      <td>Greece</td>\n",
       "      <td>F</td>\n",
       "      <td>2021-01-15 09:03:21</td>\n",
       "      <td>Pallini</td>\n",
       "      <td>1</td>\n",
       "      <td>TEST</td>\n",
       "    </tr>\n",
       "    <tr>\n",
       "      <th>...</th>\n",
       "      <td>...</td>\n",
       "      <td>...</td>\n",
       "      <td>...</td>\n",
       "      <td>...</td>\n",
       "      <td>...</td>\n",
       "      <td>...</td>\n",
       "      <td>...</td>\n",
       "      <td>...</td>\n",
       "      <td>...</td>\n",
       "    </tr>\n",
       "    <tr>\n",
       "      <th>10571</th>\n",
       "      <td>1535692</td>\n",
       "      <td>1989-07-27</td>\n",
       "      <td>OX169YA</td>\n",
       "      <td>United Kingdom</td>\n",
       "      <td>M</td>\n",
       "      <td>2021-09-18 17:04:38</td>\n",
       "      <td>Banbury</td>\n",
       "      <td>175</td>\n",
       "      <td>ACTIVE</td>\n",
       "    </tr>\n",
       "    <tr>\n",
       "      <th>10575</th>\n",
       "      <td>1620187</td>\n",
       "      <td>1959-12-19</td>\n",
       "      <td>Le4 7ps</td>\n",
       "      <td>United Kingdom</td>\n",
       "      <td>F</td>\n",
       "      <td>2021-12-18 12:00:25</td>\n",
       "      <td>Leicester</td>\n",
       "      <td>175</td>\n",
       "      <td>ACTIVE</td>\n",
       "    </tr>\n",
       "    <tr>\n",
       "      <th>10576</th>\n",
       "      <td>1504107</td>\n",
       "      <td>1995-09-23</td>\n",
       "      <td>17342</td>\n",
       "      <td>Greece</td>\n",
       "      <td>F</td>\n",
       "      <td>2021-08-01 14:22:04</td>\n",
       "      <td>Agios dimitrios</td>\n",
       "      <td>1</td>\n",
       "      <td>ACTIVE</td>\n",
       "    </tr>\n",
       "    <tr>\n",
       "      <th>10579</th>\n",
       "      <td>1644721</td>\n",
       "      <td>1993-08-13</td>\n",
       "      <td>38445</td>\n",
       "      <td>Greece</td>\n",
       "      <td>M</td>\n",
       "      <td>2022-01-07 20:23:41</td>\n",
       "      <td>Volos</td>\n",
       "      <td>1</td>\n",
       "      <td>ACTIVE</td>\n",
       "    </tr>\n",
       "    <tr>\n",
       "      <th>10580</th>\n",
       "      <td>1675649</td>\n",
       "      <td>1991-08-16</td>\n",
       "      <td>26334</td>\n",
       "      <td>Greece</td>\n",
       "      <td>F</td>\n",
       "      <td>2022-02-01 22:32:06</td>\n",
       "      <td>Patra</td>\n",
       "      <td>1</td>\n",
       "      <td>ACTIVE</td>\n",
       "    </tr>\n",
       "  </tbody>\n",
       "</table>\n",
       "<p>4386 rows × 9 columns</p>\n",
       "</div>"
      ],
      "text/plain": [
       "       UserProfileId  BirthDate  ZipCode     CountryName Sex  \\\n",
       "12           1258660 1991-07-06    15344          Greece   F   \n",
       "17           1269209 1996-05-24    18544          Greece   F   \n",
       "18           1414194 1990-11-06    11636          Greece   M   \n",
       "29           1531613 1997-08-18   666666          Greece   M   \n",
       "31           1258660 1991-07-06    15344          Greece   F   \n",
       "...              ...        ...      ...             ...  ..   \n",
       "10571        1535692 1989-07-27  OX169YA  United Kingdom   M   \n",
       "10575        1620187 1959-12-19  Le4 7ps  United Kingdom   F   \n",
       "10576        1504107 1995-09-23    17342          Greece   F   \n",
       "10579        1644721 1993-08-13    38445          Greece   M   \n",
       "10580        1675649 1991-08-16    26334          Greece   F   \n",
       "\n",
       "        Registration Date             City  CountryId StatusSysname  \n",
       "12    2021-01-15 09:03:21          Pallini          1          TEST  \n",
       "17    2021-01-22 10:53:41          Piraias          1          TEST  \n",
       "18    2021-05-05 12:18:30             Poli          1          TEST  \n",
       "29    2021-09-14 06:20:33           Menidi          1          TEST  \n",
       "31    2021-01-15 09:03:21          Pallini          1          TEST  \n",
       "...                   ...              ...        ...           ...  \n",
       "10571 2021-09-18 17:04:38          Banbury        175        ACTIVE  \n",
       "10575 2021-12-18 12:00:25        Leicester        175        ACTIVE  \n",
       "10576 2021-08-01 14:22:04  Agios dimitrios          1        ACTIVE  \n",
       "10579 2022-01-07 20:23:41            Volos          1        ACTIVE  \n",
       "10580 2022-02-01 22:32:06            Patra          1        ACTIVE  \n",
       "\n",
       "[4386 rows x 9 columns]"
      ]
     },
     "execution_count": 75,
     "metadata": {},
     "output_type": "execute_result"
    }
   ],
   "source": [
    "casino_users[casino_users.duplicated()]"
   ]
  },
  {
   "cell_type": "code",
   "execution_count": 76,
   "id": "3f810c99",
   "metadata": {
    "scrolled": true
   },
   "outputs": [
    {
     "data": {
      "text/html": [
       "<div>\n",
       "<style scoped>\n",
       "    .dataframe tbody tr th:only-of-type {\n",
       "        vertical-align: middle;\n",
       "    }\n",
       "\n",
       "    .dataframe tbody tr th {\n",
       "        vertical-align: top;\n",
       "    }\n",
       "\n",
       "    .dataframe thead th {\n",
       "        text-align: right;\n",
       "    }\n",
       "</style>\n",
       "<table border=\"1\" class=\"dataframe\">\n",
       "  <thead>\n",
       "    <tr style=\"text-align: right;\">\n",
       "      <th></th>\n",
       "      <th>UserProfileId</th>\n",
       "      <th>BirthDate</th>\n",
       "      <th>ZipCode</th>\n",
       "      <th>CountryName</th>\n",
       "      <th>Sex</th>\n",
       "      <th>Registration Date</th>\n",
       "      <th>City</th>\n",
       "      <th>CountryId</th>\n",
       "      <th>StatusSysname</th>\n",
       "    </tr>\n",
       "  </thead>\n",
       "  <tbody>\n",
       "    <tr>\n",
       "      <th>0</th>\n",
       "      <td>1504977</td>\n",
       "      <td>1991-12-23</td>\n",
       "      <td>17342</td>\n",
       "      <td>Greece</td>\n",
       "      <td>M</td>\n",
       "      <td>2021-08-03 07:03:20</td>\n",
       "      <td>Athens</td>\n",
       "      <td>1</td>\n",
       "      <td>TEST</td>\n",
       "    </tr>\n",
       "    <tr>\n",
       "      <th>1</th>\n",
       "      <td>1258660</td>\n",
       "      <td>1991-07-06</td>\n",
       "      <td>15344</td>\n",
       "      <td>Greece</td>\n",
       "      <td>F</td>\n",
       "      <td>2021-01-15 09:03:21</td>\n",
       "      <td>Pallini</td>\n",
       "      <td>1</td>\n",
       "      <td>TEST</td>\n",
       "    </tr>\n",
       "    <tr>\n",
       "      <th>2</th>\n",
       "      <td>1531613</td>\n",
       "      <td>1997-08-18</td>\n",
       "      <td>666666</td>\n",
       "      <td>Greece</td>\n",
       "      <td>M</td>\n",
       "      <td>2021-09-14 06:20:33</td>\n",
       "      <td>Menidi</td>\n",
       "      <td>1</td>\n",
       "      <td>TEST</td>\n",
       "    </tr>\n",
       "    <tr>\n",
       "      <th>3</th>\n",
       "      <td>1278219</td>\n",
       "      <td>1985-02-01</td>\n",
       "      <td>14122</td>\n",
       "      <td>Greece</td>\n",
       "      <td>M</td>\n",
       "      <td>2021-01-28 14:14:02</td>\n",
       "      <td>Athens</td>\n",
       "      <td>1</td>\n",
       "      <td>TEST</td>\n",
       "    </tr>\n",
       "    <tr>\n",
       "      <th>4</th>\n",
       "      <td>1414194</td>\n",
       "      <td>1990-11-06</td>\n",
       "      <td>11636</td>\n",
       "      <td>Greece</td>\n",
       "      <td>M</td>\n",
       "      <td>2021-05-05 12:18:30</td>\n",
       "      <td>Poli</td>\n",
       "      <td>1</td>\n",
       "      <td>TEST</td>\n",
       "    </tr>\n",
       "    <tr>\n",
       "      <th>...</th>\n",
       "      <td>...</td>\n",
       "      <td>...</td>\n",
       "      <td>...</td>\n",
       "      <td>...</td>\n",
       "      <td>...</td>\n",
       "      <td>...</td>\n",
       "      <td>...</td>\n",
       "      <td>...</td>\n",
       "      <td>...</td>\n",
       "    </tr>\n",
       "    <tr>\n",
       "      <th>10636</th>\n",
       "      <td>1699860</td>\n",
       "      <td>1998-03-17</td>\n",
       "      <td>57200</td>\n",
       "      <td>Greece</td>\n",
       "      <td>M</td>\n",
       "      <td>2022-03-05 14:59:56</td>\n",
       "      <td>Lagkadas</td>\n",
       "      <td>1</td>\n",
       "      <td>INACTIVE</td>\n",
       "    </tr>\n",
       "    <tr>\n",
       "      <th>10637</th>\n",
       "      <td>1684717</td>\n",
       "      <td>2000-05-05</td>\n",
       "      <td>118 52</td>\n",
       "      <td>Greece</td>\n",
       "      <td>M</td>\n",
       "      <td>2022-02-14 12:27:20</td>\n",
       "      <td>Athens</td>\n",
       "      <td>1</td>\n",
       "      <td>INACTIVE</td>\n",
       "    </tr>\n",
       "    <tr>\n",
       "      <th>10638</th>\n",
       "      <td>1527028</td>\n",
       "      <td>1999-04-18</td>\n",
       "      <td>56430</td>\n",
       "      <td>Greece</td>\n",
       "      <td>F</td>\n",
       "      <td>2021-09-08 13:17:49</td>\n",
       "      <td>Thessaloniki</td>\n",
       "      <td>1</td>\n",
       "      <td>INACTIVE</td>\n",
       "    </tr>\n",
       "    <tr>\n",
       "      <th>10639</th>\n",
       "      <td>1515759</td>\n",
       "      <td>1971-11-07</td>\n",
       "      <td>122 44</td>\n",
       "      <td>Greece</td>\n",
       "      <td>F</td>\n",
       "      <td>2021-08-22 08:55:01</td>\n",
       "      <td>Egaleo</td>\n",
       "      <td>1</td>\n",
       "      <td>INACTIVE</td>\n",
       "    </tr>\n",
       "    <tr>\n",
       "      <th>10640</th>\n",
       "      <td>1694464</td>\n",
       "      <td>2001-02-20</td>\n",
       "      <td>18120</td>\n",
       "      <td>Greece</td>\n",
       "      <td>M</td>\n",
       "      <td>2022-02-26 06:12:32</td>\n",
       "      <td>Korudallos</td>\n",
       "      <td>1</td>\n",
       "      <td>INACTIVE</td>\n",
       "    </tr>\n",
       "  </tbody>\n",
       "</table>\n",
       "<p>6255 rows × 9 columns</p>\n",
       "</div>"
      ],
      "text/plain": [
       "       UserProfileId  BirthDate ZipCode CountryName Sex   Registration Date  \\\n",
       "0            1504977 1991-12-23   17342      Greece   M 2021-08-03 07:03:20   \n",
       "1            1258660 1991-07-06   15344      Greece   F 2021-01-15 09:03:21   \n",
       "2            1531613 1997-08-18  666666      Greece   M 2021-09-14 06:20:33   \n",
       "3            1278219 1985-02-01   14122      Greece   M 2021-01-28 14:14:02   \n",
       "4            1414194 1990-11-06   11636      Greece   M 2021-05-05 12:18:30   \n",
       "...              ...        ...     ...         ...  ..                 ...   \n",
       "10636        1699860 1998-03-17   57200      Greece   M 2022-03-05 14:59:56   \n",
       "10637        1684717 2000-05-05  118 52      Greece   M 2022-02-14 12:27:20   \n",
       "10638        1527028 1999-04-18   56430      Greece   F 2021-09-08 13:17:49   \n",
       "10639        1515759 1971-11-07  122 44      Greece   F 2021-08-22 08:55:01   \n",
       "10640        1694464 2001-02-20   18120      Greece   M 2022-02-26 06:12:32   \n",
       "\n",
       "               City  CountryId StatusSysname  \n",
       "0            Athens          1          TEST  \n",
       "1           Pallini          1          TEST  \n",
       "2            Menidi          1          TEST  \n",
       "3            Athens          1          TEST  \n",
       "4              Poli          1          TEST  \n",
       "...             ...        ...           ...  \n",
       "10636      Lagkadas          1      INACTIVE  \n",
       "10637        Athens          1      INACTIVE  \n",
       "10638  Thessaloniki          1      INACTIVE  \n",
       "10639        Egaleo          1      INACTIVE  \n",
       "10640    Korudallos          1      INACTIVE  \n",
       "\n",
       "[6255 rows x 9 columns]"
      ]
     },
     "execution_count": 76,
     "metadata": {},
     "output_type": "execute_result"
    }
   ],
   "source": [
    "casino_users = casino_users.drop_duplicates()\n",
    "casino_users"
   ]
  },
  {
   "cell_type": "code",
   "execution_count": 77,
   "id": "ce206a77",
   "metadata": {},
   "outputs": [
    {
     "data": {
      "text/plain": [
       "0"
      ]
     },
     "execution_count": 77,
     "metadata": {},
     "output_type": "execute_result"
    }
   ],
   "source": [
    "casino_users.duplicated().sum()"
   ]
  },
  {
   "cell_type": "code",
   "execution_count": 78,
   "id": "d822e971",
   "metadata": {},
   "outputs": [
    {
     "data": {
      "text/plain": [
       "1      4549\n",
       "175    1583\n",
       "56      109\n",
       "50        7\n",
       "24        5\n",
       "106       1\n",
       "52        1\n",
       "Name: CountryId, dtype: int64"
      ]
     },
     "execution_count": 78,
     "metadata": {},
     "output_type": "execute_result"
    }
   ],
   "source": [
    "casino_users.CountryId.value_counts()"
   ]
  },
  {
   "cell_type": "code",
   "execution_count": 79,
   "id": "c576a4a3",
   "metadata": {},
   "outputs": [
    {
     "data": {
      "text/plain": [
       "Greece            4549\n",
       "United Kingdom    1583\n",
       "Ireland            109\n",
       "Hungary              7\n",
       "Finland              5\n",
       "New Zealand          1\n",
       "India                1\n",
       "Name: CountryName, dtype: int64"
      ]
     },
     "execution_count": 79,
     "metadata": {},
     "output_type": "execute_result"
    }
   ],
   "source": [
    "casino_users.CountryName.value_counts()"
   ]
  },
  {
   "cell_type": "code",
   "execution_count": 80,
   "id": "9b9abf96",
   "metadata": {},
   "outputs": [
    {
     "data": {
      "text/plain": [
       "ACTIVE      6128\n",
       "TEST          68\n",
       "INACTIVE      59\n",
       "Name: StatusSysname, dtype: int64"
      ]
     },
     "execution_count": 80,
     "metadata": {},
     "output_type": "execute_result"
    }
   ],
   "source": [
    "casino_users.StatusSysname.value_counts()"
   ]
  },
  {
   "cell_type": "code",
   "execution_count": 81,
   "id": "93a757cd",
   "metadata": {
    "scrolled": true
   },
   "outputs": [
    {
     "data": {
      "text/plain": [
       "Athens               426\n",
       "Thessaloniki         313\n",
       "Patra                143\n",
       "London               126\n",
       "Peristeri             62\n",
       "                    ... \n",
       "Chania,crete           1\n",
       "Hartford               1\n",
       "Auckland               1\n",
       "Peristeri, attiki      1\n",
       "Stauroupoli            1\n",
       "Name: City, Length: 1651, dtype: int64"
      ]
     },
     "execution_count": 81,
     "metadata": {},
     "output_type": "execute_result"
    }
   ],
   "source": [
    "casino_users.City.value_counts()"
   ]
  },
  {
   "cell_type": "code",
   "execution_count": 82,
   "id": "da66123e",
   "metadata": {},
   "outputs": [],
   "source": [
    "def calc_age(born):\n",
    "    today = datetime.date.today()\n",
    "    return today.year - born.year - ((today.month, today.day) < (born.month, born.day))"
   ]
  },
  {
   "cell_type": "code",
   "execution_count": 83,
   "id": "6e51cf07",
   "metadata": {},
   "outputs": [],
   "source": [
    "casino_users['Age'] = casino_users['BirthDate'].apply(lambda x: calc_age(x))"
   ]
  },
  {
   "cell_type": "code",
   "execution_count": 84,
   "id": "64232343",
   "metadata": {},
   "outputs": [
    {
     "data": {
      "text/html": [
       "<div>\n",
       "<style scoped>\n",
       "    .dataframe tbody tr th:only-of-type {\n",
       "        vertical-align: middle;\n",
       "    }\n",
       "\n",
       "    .dataframe tbody tr th {\n",
       "        vertical-align: top;\n",
       "    }\n",
       "\n",
       "    .dataframe thead th {\n",
       "        text-align: right;\n",
       "    }\n",
       "</style>\n",
       "<table border=\"1\" class=\"dataframe\">\n",
       "  <thead>\n",
       "    <tr style=\"text-align: right;\">\n",
       "      <th></th>\n",
       "      <th>UserProfileId</th>\n",
       "      <th>BirthDate</th>\n",
       "      <th>ZipCode</th>\n",
       "      <th>CountryName</th>\n",
       "      <th>Sex</th>\n",
       "      <th>Registration Date</th>\n",
       "      <th>City</th>\n",
       "      <th>CountryId</th>\n",
       "      <th>StatusSysname</th>\n",
       "      <th>Age</th>\n",
       "      <th>MonthsMember</th>\n",
       "    </tr>\n",
       "  </thead>\n",
       "  <tbody>\n",
       "    <tr>\n",
       "      <th>0</th>\n",
       "      <td>1504977</td>\n",
       "      <td>1991-12-23</td>\n",
       "      <td>17342</td>\n",
       "      <td>Greece</td>\n",
       "      <td>M</td>\n",
       "      <td>2021-08-03 07:03:20</td>\n",
       "      <td>Athens</td>\n",
       "      <td>1</td>\n",
       "      <td>TEST</td>\n",
       "      <td>30</td>\n",
       "      <td>8</td>\n",
       "    </tr>\n",
       "    <tr>\n",
       "      <th>1</th>\n",
       "      <td>1258660</td>\n",
       "      <td>1991-07-06</td>\n",
       "      <td>15344</td>\n",
       "      <td>Greece</td>\n",
       "      <td>F</td>\n",
       "      <td>2021-01-15 09:03:21</td>\n",
       "      <td>Pallini</td>\n",
       "      <td>1</td>\n",
       "      <td>TEST</td>\n",
       "      <td>30</td>\n",
       "      <td>14</td>\n",
       "    </tr>\n",
       "    <tr>\n",
       "      <th>2</th>\n",
       "      <td>1531613</td>\n",
       "      <td>1997-08-18</td>\n",
       "      <td>666666</td>\n",
       "      <td>Greece</td>\n",
       "      <td>M</td>\n",
       "      <td>2021-09-14 06:20:33</td>\n",
       "      <td>Menidi</td>\n",
       "      <td>1</td>\n",
       "      <td>TEST</td>\n",
       "      <td>24</td>\n",
       "      <td>6</td>\n",
       "    </tr>\n",
       "    <tr>\n",
       "      <th>3</th>\n",
       "      <td>1278219</td>\n",
       "      <td>1985-02-01</td>\n",
       "      <td>14122</td>\n",
       "      <td>Greece</td>\n",
       "      <td>M</td>\n",
       "      <td>2021-01-28 14:14:02</td>\n",
       "      <td>Athens</td>\n",
       "      <td>1</td>\n",
       "      <td>TEST</td>\n",
       "      <td>37</td>\n",
       "      <td>14</td>\n",
       "    </tr>\n",
       "    <tr>\n",
       "      <th>4</th>\n",
       "      <td>1414194</td>\n",
       "      <td>1990-11-06</td>\n",
       "      <td>11636</td>\n",
       "      <td>Greece</td>\n",
       "      <td>M</td>\n",
       "      <td>2021-05-05 12:18:30</td>\n",
       "      <td>Poli</td>\n",
       "      <td>1</td>\n",
       "      <td>TEST</td>\n",
       "      <td>31</td>\n",
       "      <td>11</td>\n",
       "    </tr>\n",
       "  </tbody>\n",
       "</table>\n",
       "</div>"
      ],
      "text/plain": [
       "   UserProfileId  BirthDate ZipCode CountryName Sex   Registration Date  \\\n",
       "0        1504977 1991-12-23   17342      Greece   M 2021-08-03 07:03:20   \n",
       "1        1258660 1991-07-06   15344      Greece   F 2021-01-15 09:03:21   \n",
       "2        1531613 1997-08-18  666666      Greece   M 2021-09-14 06:20:33   \n",
       "3        1278219 1985-02-01   14122      Greece   M 2021-01-28 14:14:02   \n",
       "4        1414194 1990-11-06   11636      Greece   M 2021-05-05 12:18:30   \n",
       "\n",
       "      City  CountryId StatusSysname  Age  MonthsMember  \n",
       "0   Athens          1          TEST   30             8  \n",
       "1  Pallini          1          TEST   30            14  \n",
       "2   Menidi          1          TEST   24             6  \n",
       "3   Athens          1          TEST   37            14  \n",
       "4     Poli          1          TEST   31            11  "
      ]
     },
     "execution_count": 84,
     "metadata": {},
     "output_type": "execute_result"
    }
   ],
   "source": [
    "today = datetime.date.today()\n",
    "casino_users['MonthsMember'] = today\n",
    "casino_users.MonthsMember = pd.to_datetime(casino_users.MonthsMember)\n",
    "casino_users['MonthsMember'] = ((casino_users.MonthsMember - casino_users['Registration Date'])/np.timedelta64(1, 'M'))\n",
    "casino_users.MonthsMember = casino_users.MonthsMember.astype(int)\n",
    "casino_users.head()"
   ]
  },
  {
   "cell_type": "code",
   "execution_count": 85,
   "id": "ffe69cb4",
   "metadata": {},
   "outputs": [
    {
     "data": {
      "text/html": [
       "<div>\n",
       "<style scoped>\n",
       "    .dataframe tbody tr th:only-of-type {\n",
       "        vertical-align: middle;\n",
       "    }\n",
       "\n",
       "    .dataframe tbody tr th {\n",
       "        vertical-align: top;\n",
       "    }\n",
       "\n",
       "    .dataframe thead th {\n",
       "        text-align: right;\n",
       "    }\n",
       "</style>\n",
       "<table border=\"1\" class=\"dataframe\">\n",
       "  <thead>\n",
       "    <tr style=\"text-align: right;\">\n",
       "      <th></th>\n",
       "      <th>UserProfileId</th>\n",
       "      <th>BirthDate</th>\n",
       "      <th>ZipCode</th>\n",
       "      <th>CountryName</th>\n",
       "      <th>Sex</th>\n",
       "      <th>Registration Date</th>\n",
       "      <th>City</th>\n",
       "      <th>CountryId</th>\n",
       "      <th>StatusSysname</th>\n",
       "      <th>Age</th>\n",
       "      <th>MonthsMember</th>\n",
       "    </tr>\n",
       "  </thead>\n",
       "  <tbody>\n",
       "    <tr>\n",
       "      <th>8048</th>\n",
       "      <td>1504134</td>\n",
       "      <td>1995-02-15</td>\n",
       "      <td>18757</td>\n",
       "      <td>Greece</td>\n",
       "      <td>M</td>\n",
       "      <td>2021-08-01 15:09:26</td>\n",
       "      <td>Keratsini</td>\n",
       "      <td>1</td>\n",
       "      <td>ACTIVE</td>\n",
       "      <td>27</td>\n",
       "      <td>8</td>\n",
       "    </tr>\n",
       "    <tr>\n",
       "      <th>5281</th>\n",
       "      <td>1504134</td>\n",
       "      <td>1995-02-15</td>\n",
       "      <td>18453</td>\n",
       "      <td>Greece</td>\n",
       "      <td>M</td>\n",
       "      <td>2021-08-01 15:09:26</td>\n",
       "      <td>Nikaia</td>\n",
       "      <td>1</td>\n",
       "      <td>ACTIVE</td>\n",
       "      <td>27</td>\n",
       "      <td>8</td>\n",
       "    </tr>\n",
       "    <tr>\n",
       "      <th>10100</th>\n",
       "      <td>1504950</td>\n",
       "      <td>1981-12-09</td>\n",
       "      <td>Sr34pf</td>\n",
       "      <td>United Kingdom</td>\n",
       "      <td>M</td>\n",
       "      <td>2021-08-03 02:47:20</td>\n",
       "      <td>Sunderland</td>\n",
       "      <td>175</td>\n",
       "      <td>ACTIVE</td>\n",
       "      <td>40</td>\n",
       "      <td>8</td>\n",
       "    </tr>\n",
       "    <tr>\n",
       "      <th>2280</th>\n",
       "      <td>1504950</td>\n",
       "      <td>1981-12-08</td>\n",
       "      <td>Sr34pf</td>\n",
       "      <td>United Kingdom</td>\n",
       "      <td>M</td>\n",
       "      <td>2021-08-03 02:47:20</td>\n",
       "      <td>Sunderland</td>\n",
       "      <td>175</td>\n",
       "      <td>ACTIVE</td>\n",
       "      <td>40</td>\n",
       "      <td>8</td>\n",
       "    </tr>\n",
       "    <tr>\n",
       "      <th>3710</th>\n",
       "      <td>1505190</td>\n",
       "      <td>1992-07-03</td>\n",
       "      <td>661 00</td>\n",
       "      <td>Greece</td>\n",
       "      <td>F</td>\n",
       "      <td>2021-08-03 15:10:21</td>\n",
       "      <td>Drama</td>\n",
       "      <td>1</td>\n",
       "      <td>ACTIVE</td>\n",
       "      <td>29</td>\n",
       "      <td>8</td>\n",
       "    </tr>\n",
       "    <tr>\n",
       "      <th>...</th>\n",
       "      <td>...</td>\n",
       "      <td>...</td>\n",
       "      <td>...</td>\n",
       "      <td>...</td>\n",
       "      <td>...</td>\n",
       "      <td>...</td>\n",
       "      <td>...</td>\n",
       "      <td>...</td>\n",
       "      <td>...</td>\n",
       "      <td>...</td>\n",
       "      <td>...</td>\n",
       "    </tr>\n",
       "    <tr>\n",
       "      <th>8279</th>\n",
       "      <td>1705618</td>\n",
       "      <td>1980-04-24</td>\n",
       "      <td>413 35</td>\n",
       "      <td>Greece</td>\n",
       "      <td>F</td>\n",
       "      <td>2022-03-12 19:24:19</td>\n",
       "      <td>Larisa</td>\n",
       "      <td>1</td>\n",
       "      <td>ACTIVE</td>\n",
       "      <td>41</td>\n",
       "      <td>1</td>\n",
       "    </tr>\n",
       "    <tr>\n",
       "      <th>6544</th>\n",
       "      <td>1710135</td>\n",
       "      <td>1969-01-26</td>\n",
       "      <td>621 22</td>\n",
       "      <td>Greece</td>\n",
       "      <td>M</td>\n",
       "      <td>2022-03-20 17:55:31</td>\n",
       "      <td>Serres</td>\n",
       "      <td>1</td>\n",
       "      <td>ACTIVE</td>\n",
       "      <td>53</td>\n",
       "      <td>0</td>\n",
       "    </tr>\n",
       "    <tr>\n",
       "      <th>4153</th>\n",
       "      <td>1710135</td>\n",
       "      <td>1969-01-26</td>\n",
       "      <td>621 22</td>\n",
       "      <td>Greece</td>\n",
       "      <td>F</td>\n",
       "      <td>2022-03-20 17:55:31</td>\n",
       "      <td>Serres</td>\n",
       "      <td>1</td>\n",
       "      <td>ACTIVE</td>\n",
       "      <td>53</td>\n",
       "      <td>0</td>\n",
       "    </tr>\n",
       "    <tr>\n",
       "      <th>3827</th>\n",
       "      <td>1713940</td>\n",
       "      <td>1979-06-19</td>\n",
       "      <td>18453</td>\n",
       "      <td>Greece</td>\n",
       "      <td>M</td>\n",
       "      <td>2022-03-27 09:56:27</td>\n",
       "      <td>Pireas</td>\n",
       "      <td>1</td>\n",
       "      <td>ACTIVE</td>\n",
       "      <td>42</td>\n",
       "      <td>0</td>\n",
       "    </tr>\n",
       "    <tr>\n",
       "      <th>2108</th>\n",
       "      <td>1713940</td>\n",
       "      <td>1979-06-20</td>\n",
       "      <td>18453</td>\n",
       "      <td>Greece</td>\n",
       "      <td>M</td>\n",
       "      <td>2022-03-27 09:56:27</td>\n",
       "      <td>Pireas</td>\n",
       "      <td>1</td>\n",
       "      <td>ACTIVE</td>\n",
       "      <td>42</td>\n",
       "      <td>0</td>\n",
       "    </tr>\n",
       "  </tbody>\n",
       "</table>\n",
       "<p>372 rows × 11 columns</p>\n",
       "</div>"
      ],
      "text/plain": [
       "       UserProfileId  BirthDate ZipCode     CountryName Sex  \\\n",
       "8048         1504134 1995-02-15   18757          Greece   M   \n",
       "5281         1504134 1995-02-15   18453          Greece   M   \n",
       "10100        1504950 1981-12-09  Sr34pf  United Kingdom   M   \n",
       "2280         1504950 1981-12-08  Sr34pf  United Kingdom   M   \n",
       "3710         1505190 1992-07-03  661 00          Greece   F   \n",
       "...              ...        ...     ...             ...  ..   \n",
       "8279         1705618 1980-04-24  413 35          Greece   F   \n",
       "6544         1710135 1969-01-26  621 22          Greece   M   \n",
       "4153         1710135 1969-01-26  621 22          Greece   F   \n",
       "3827         1713940 1979-06-19   18453          Greece   M   \n",
       "2108         1713940 1979-06-20   18453          Greece   M   \n",
       "\n",
       "        Registration Date        City  CountryId StatusSysname  Age  \\\n",
       "8048  2021-08-01 15:09:26   Keratsini          1        ACTIVE   27   \n",
       "5281  2021-08-01 15:09:26      Nikaia          1        ACTIVE   27   \n",
       "10100 2021-08-03 02:47:20  Sunderland        175        ACTIVE   40   \n",
       "2280  2021-08-03 02:47:20  Sunderland        175        ACTIVE   40   \n",
       "3710  2021-08-03 15:10:21       Drama          1        ACTIVE   29   \n",
       "...                   ...         ...        ...           ...  ...   \n",
       "8279  2022-03-12 19:24:19      Larisa          1        ACTIVE   41   \n",
       "6544  2022-03-20 17:55:31      Serres          1        ACTIVE   53   \n",
       "4153  2022-03-20 17:55:31      Serres          1        ACTIVE   53   \n",
       "3827  2022-03-27 09:56:27      Pireas          1        ACTIVE   42   \n",
       "2108  2022-03-27 09:56:27      Pireas          1        ACTIVE   42   \n",
       "\n",
       "       MonthsMember  \n",
       "8048              8  \n",
       "5281              8  \n",
       "10100             8  \n",
       "2280              8  \n",
       "3710              8  \n",
       "...             ...  \n",
       "8279              1  \n",
       "6544              0  \n",
       "4153              0  \n",
       "3827              0  \n",
       "2108              0  \n",
       "\n",
       "[372 rows x 11 columns]"
      ]
     },
     "execution_count": 85,
     "metadata": {},
     "output_type": "execute_result"
    }
   ],
   "source": [
    "casino_users[casino_users.duplicated(['UserProfileId','StatusSysname'], keep=False)].sort_values(by='UserProfileId')"
   ]
  },
  {
   "cell_type": "code",
   "execution_count": 86,
   "id": "aadabc07",
   "metadata": {},
   "outputs": [],
   "source": [
    "casino_users = casino_users.drop_duplicates(subset=['UserProfileId','StatusSysname'])"
   ]
  },
  {
   "cell_type": "code",
   "execution_count": 87,
   "id": "8411646e",
   "metadata": {},
   "outputs": [
    {
     "data": {
      "text/plain": [
       "0"
      ]
     },
     "execution_count": 87,
     "metadata": {},
     "output_type": "execute_result"
    }
   ],
   "source": [
    "casino_users.duplicated(['UserProfileId','StatusSysname']).sum()"
   ]
  },
  {
   "cell_type": "code",
   "execution_count": 88,
   "id": "b534e578",
   "metadata": {},
   "outputs": [
    {
     "data": {
      "text/html": [
       "<div>\n",
       "<style scoped>\n",
       "    .dataframe tbody tr th:only-of-type {\n",
       "        vertical-align: middle;\n",
       "    }\n",
       "\n",
       "    .dataframe tbody tr th {\n",
       "        vertical-align: top;\n",
       "    }\n",
       "\n",
       "    .dataframe thead th {\n",
       "        text-align: right;\n",
       "    }\n",
       "</style>\n",
       "<table border=\"1\" class=\"dataframe\">\n",
       "  <thead>\n",
       "    <tr style=\"text-align: right;\">\n",
       "      <th></th>\n",
       "      <th>UserProfileId</th>\n",
       "      <th>BirthDate</th>\n",
       "      <th>ZipCode</th>\n",
       "      <th>CountryName</th>\n",
       "      <th>Sex</th>\n",
       "      <th>Registration Date</th>\n",
       "      <th>City</th>\n",
       "      <th>CountryId</th>\n",
       "      <th>StatusSysname</th>\n",
       "      <th>Age</th>\n",
       "      <th>MonthsMember</th>\n",
       "    </tr>\n",
       "  </thead>\n",
       "  <tbody>\n",
       "    <tr>\n",
       "      <th>10617</th>\n",
       "      <td>1511267</td>\n",
       "      <td>1985-12-16</td>\n",
       "      <td>546 28</td>\n",
       "      <td>Greece</td>\n",
       "      <td>F</td>\n",
       "      <td>2021-08-14 22:29:16</td>\n",
       "      <td>Thessaloniki</td>\n",
       "      <td>1</td>\n",
       "      <td>INACTIVE</td>\n",
       "      <td>36</td>\n",
       "      <td>7</td>\n",
       "    </tr>\n",
       "    <tr>\n",
       "      <th>4146</th>\n",
       "      <td>1511267</td>\n",
       "      <td>1985-12-16</td>\n",
       "      <td>546 28</td>\n",
       "      <td>Greece</td>\n",
       "      <td>F</td>\n",
       "      <td>2021-08-14 22:29:16</td>\n",
       "      <td>Thessaloniki</td>\n",
       "      <td>1</td>\n",
       "      <td>ACTIVE</td>\n",
       "      <td>36</td>\n",
       "      <td>7</td>\n",
       "    </tr>\n",
       "    <tr>\n",
       "      <th>10586</th>\n",
       "      <td>1512301</td>\n",
       "      <td>1970-07-11</td>\n",
       "      <td>NN6 7NR</td>\n",
       "      <td>United Kingdom</td>\n",
       "      <td>F</td>\n",
       "      <td>2021-08-16 18:40:59</td>\n",
       "      <td>Northamptonshire</td>\n",
       "      <td>175</td>\n",
       "      <td>INACTIVE</td>\n",
       "      <td>51</td>\n",
       "      <td>7</td>\n",
       "    </tr>\n",
       "    <tr>\n",
       "      <th>9807</th>\n",
       "      <td>1512301</td>\n",
       "      <td>1970-07-11</td>\n",
       "      <td>NN6 7NR</td>\n",
       "      <td>United Kingdom</td>\n",
       "      <td>F</td>\n",
       "      <td>2021-08-16 18:40:59</td>\n",
       "      <td>Northamptonshire</td>\n",
       "      <td>175</td>\n",
       "      <td>ACTIVE</td>\n",
       "      <td>51</td>\n",
       "      <td>7</td>\n",
       "    </tr>\n",
       "    <tr>\n",
       "      <th>4406</th>\n",
       "      <td>1513148</td>\n",
       "      <td>1974-07-25</td>\n",
       "      <td>58200</td>\n",
       "      <td>Greece</td>\n",
       "      <td>M</td>\n",
       "      <td>2021-08-18 09:08:44</td>\n",
       "      <td>Edessa</td>\n",
       "      <td>1</td>\n",
       "      <td>ACTIVE</td>\n",
       "      <td>47</td>\n",
       "      <td>7</td>\n",
       "    </tr>\n",
       "    <tr>\n",
       "      <th>...</th>\n",
       "      <td>...</td>\n",
       "      <td>...</td>\n",
       "      <td>...</td>\n",
       "      <td>...</td>\n",
       "      <td>...</td>\n",
       "      <td>...</td>\n",
       "      <td>...</td>\n",
       "      <td>...</td>\n",
       "      <td>...</td>\n",
       "      <td>...</td>\n",
       "      <td>...</td>\n",
       "    </tr>\n",
       "    <tr>\n",
       "      <th>6870</th>\n",
       "      <td>1694464</td>\n",
       "      <td>2001-02-20</td>\n",
       "      <td>18120</td>\n",
       "      <td>Greece</td>\n",
       "      <td>M</td>\n",
       "      <td>2022-02-26 06:12:32</td>\n",
       "      <td>Korudallos</td>\n",
       "      <td>1</td>\n",
       "      <td>ACTIVE</td>\n",
       "      <td>21</td>\n",
       "      <td>1</td>\n",
       "    </tr>\n",
       "    <tr>\n",
       "      <th>2053</th>\n",
       "      <td>1699860</td>\n",
       "      <td>1998-03-17</td>\n",
       "      <td>57200</td>\n",
       "      <td>Greece</td>\n",
       "      <td>M</td>\n",
       "      <td>2022-03-05 14:59:56</td>\n",
       "      <td>Lagkadas</td>\n",
       "      <td>1</td>\n",
       "      <td>ACTIVE</td>\n",
       "      <td>24</td>\n",
       "      <td>1</td>\n",
       "    </tr>\n",
       "    <tr>\n",
       "      <th>10636</th>\n",
       "      <td>1699860</td>\n",
       "      <td>1998-03-17</td>\n",
       "      <td>57200</td>\n",
       "      <td>Greece</td>\n",
       "      <td>M</td>\n",
       "      <td>2022-03-05 14:59:56</td>\n",
       "      <td>Lagkadas</td>\n",
       "      <td>1</td>\n",
       "      <td>INACTIVE</td>\n",
       "      <td>24</td>\n",
       "      <td>1</td>\n",
       "    </tr>\n",
       "    <tr>\n",
       "      <th>10621</th>\n",
       "      <td>1712213</td>\n",
       "      <td>2001-01-31</td>\n",
       "      <td>45221</td>\n",
       "      <td>Greece</td>\n",
       "      <td>F</td>\n",
       "      <td>2022-03-25 10:07:59</td>\n",
       "      <td>Ioannina</td>\n",
       "      <td>1</td>\n",
       "      <td>INACTIVE</td>\n",
       "      <td>21</td>\n",
       "      <td>0</td>\n",
       "    </tr>\n",
       "    <tr>\n",
       "      <th>3099</th>\n",
       "      <td>1712213</td>\n",
       "      <td>2001-01-31</td>\n",
       "      <td>45221</td>\n",
       "      <td>Greece</td>\n",
       "      <td>F</td>\n",
       "      <td>2022-03-25 10:07:59</td>\n",
       "      <td>Ioannina</td>\n",
       "      <td>1</td>\n",
       "      <td>ACTIVE</td>\n",
       "      <td>21</td>\n",
       "      <td>0</td>\n",
       "    </tr>\n",
       "  </tbody>\n",
       "</table>\n",
       "<p>76 rows × 11 columns</p>\n",
       "</div>"
      ],
      "text/plain": [
       "       UserProfileId  BirthDate  ZipCode     CountryName Sex  \\\n",
       "10617        1511267 1985-12-16   546 28          Greece   F   \n",
       "4146         1511267 1985-12-16   546 28          Greece   F   \n",
       "10586        1512301 1970-07-11  NN6 7NR  United Kingdom   F   \n",
       "9807         1512301 1970-07-11  NN6 7NR  United Kingdom   F   \n",
       "4406         1513148 1974-07-25    58200          Greece   M   \n",
       "...              ...        ...      ...             ...  ..   \n",
       "6870         1694464 2001-02-20    18120          Greece   M   \n",
       "2053         1699860 1998-03-17    57200          Greece   M   \n",
       "10636        1699860 1998-03-17    57200          Greece   M   \n",
       "10621        1712213 2001-01-31    45221          Greece   F   \n",
       "3099         1712213 2001-01-31    45221          Greece   F   \n",
       "\n",
       "        Registration Date              City  CountryId StatusSysname  Age  \\\n",
       "10617 2021-08-14 22:29:16      Thessaloniki          1      INACTIVE   36   \n",
       "4146  2021-08-14 22:29:16      Thessaloniki          1        ACTIVE   36   \n",
       "10586 2021-08-16 18:40:59  Northamptonshire        175      INACTIVE   51   \n",
       "9807  2021-08-16 18:40:59  Northamptonshire        175        ACTIVE   51   \n",
       "4406  2021-08-18 09:08:44            Edessa          1        ACTIVE   47   \n",
       "...                   ...               ...        ...           ...  ...   \n",
       "6870  2022-02-26 06:12:32        Korudallos          1        ACTIVE   21   \n",
       "2053  2022-03-05 14:59:56          Lagkadas          1        ACTIVE   24   \n",
       "10636 2022-03-05 14:59:56          Lagkadas          1      INACTIVE   24   \n",
       "10621 2022-03-25 10:07:59          Ioannina          1      INACTIVE   21   \n",
       "3099  2022-03-25 10:07:59          Ioannina          1        ACTIVE   21   \n",
       "\n",
       "       MonthsMember  \n",
       "10617             7  \n",
       "4146              7  \n",
       "10586             7  \n",
       "9807              7  \n",
       "4406              7  \n",
       "...             ...  \n",
       "6870              1  \n",
       "2053              1  \n",
       "10636             1  \n",
       "10621             0  \n",
       "3099              0  \n",
       "\n",
       "[76 rows x 11 columns]"
      ]
     },
     "execution_count": 88,
     "metadata": {},
     "output_type": "execute_result"
    }
   ],
   "source": [
    "casino_users[casino_users.duplicated(['UserProfileId'], keep=False)].sort_values(by='UserProfileId')"
   ]
  },
  {
   "cell_type": "code",
   "execution_count": 89,
   "id": "8633d063",
   "metadata": {},
   "outputs": [],
   "source": [
    "casino_users = casino_users.drop_duplicates(subset=['UserProfileId'])"
   ]
  },
  {
   "cell_type": "code",
   "execution_count": 90,
   "id": "24ed30ed",
   "metadata": {},
   "outputs": [
    {
     "data": {
      "text/plain": [
       "0"
      ]
     },
     "execution_count": 90,
     "metadata": {},
     "output_type": "execute_result"
    }
   ],
   "source": [
    "casino_users.duplicated(['UserProfileId']).sum()"
   ]
  },
  {
   "cell_type": "markdown",
   "id": "ace0abfe",
   "metadata": {},
   "source": [
    "## Customer Wallet Analysis"
   ]
  },
  {
   "cell_type": "code",
   "execution_count": 91,
   "id": "9147e55d",
   "metadata": {},
   "outputs": [],
   "source": [
    "customer_wallet = pd.read_csv(\"Customer Wallet.csv\")"
   ]
  },
  {
   "cell_type": "code",
   "execution_count": 92,
   "id": "321b55cd",
   "metadata": {
    "scrolled": false
   },
   "outputs": [
    {
     "data": {
      "text/html": [
       "<div>\n",
       "<style scoped>\n",
       "    .dataframe tbody tr th:only-of-type {\n",
       "        vertical-align: middle;\n",
       "    }\n",
       "\n",
       "    .dataframe tbody tr th {\n",
       "        vertical-align: top;\n",
       "    }\n",
       "\n",
       "    .dataframe thead th {\n",
       "        text-align: right;\n",
       "    }\n",
       "</style>\n",
       "<table border=\"1\" class=\"dataframe\">\n",
       "  <thead>\n",
       "    <tr style=\"text-align: right;\">\n",
       "      <th></th>\n",
       "      <th>WalletActionId</th>\n",
       "      <th>UserProfileId</th>\n",
       "      <th>Type</th>\n",
       "      <th>TypeSysname</th>\n",
       "      <th>Amount</th>\n",
       "      <th>MethodSysname</th>\n",
       "      <th>Created</th>\n",
       "    </tr>\n",
       "  </thead>\n",
       "  <tbody>\n",
       "    <tr>\n",
       "      <th>0</th>\n",
       "      <td>29220192</td>\n",
       "      <td>1521781</td>\n",
       "      <td>1</td>\n",
       "      <td>DEPOSIT</td>\n",
       "      <td>100.0</td>\n",
       "      <td>DIASDTM</td>\n",
       "      <td>2021-10-10 19:16:58.297</td>\n",
       "    </tr>\n",
       "    <tr>\n",
       "      <th>1</th>\n",
       "      <td>29220298</td>\n",
       "      <td>1512213</td>\n",
       "      <td>1</td>\n",
       "      <td>DEPOSIT</td>\n",
       "      <td>10.0</td>\n",
       "      <td>VisaCard</td>\n",
       "      <td>2021-10-10 19:19:03.650</td>\n",
       "    </tr>\n",
       "    <tr>\n",
       "      <th>2</th>\n",
       "      <td>29221601</td>\n",
       "      <td>1520026</td>\n",
       "      <td>1</td>\n",
       "      <td>DEPOSIT</td>\n",
       "      <td>3.0</td>\n",
       "      <td>DIASDTM</td>\n",
       "      <td>2021-10-10 19:40:06.510</td>\n",
       "    </tr>\n",
       "    <tr>\n",
       "      <th>3</th>\n",
       "      <td>29222108</td>\n",
       "      <td>1550402</td>\n",
       "      <td>1</td>\n",
       "      <td>DEPOSIT</td>\n",
       "      <td>10.0</td>\n",
       "      <td>PSCPaysafeCard</td>\n",
       "      <td>2021-10-10 19:49:03.867</td>\n",
       "    </tr>\n",
       "    <tr>\n",
       "      <th>4</th>\n",
       "      <td>29203403</td>\n",
       "      <td>1550060</td>\n",
       "      <td>2</td>\n",
       "      <td>WITHDRAW</td>\n",
       "      <td>-17.5</td>\n",
       "      <td>VisaCard</td>\n",
       "      <td>2021-10-10 19:50:06.037</td>\n",
       "    </tr>\n",
       "  </tbody>\n",
       "</table>\n",
       "</div>"
      ],
      "text/plain": [
       "   WalletActionId  UserProfileId  Type TypeSysname  Amount   MethodSysname  \\\n",
       "0        29220192        1521781     1     DEPOSIT   100.0         DIASDTM   \n",
       "1        29220298        1512213     1     DEPOSIT    10.0        VisaCard   \n",
       "2        29221601        1520026     1     DEPOSIT     3.0         DIASDTM   \n",
       "3        29222108        1550402     1     DEPOSIT    10.0  PSCPaysafeCard   \n",
       "4        29203403        1550060     2    WITHDRAW   -17.5        VisaCard   \n",
       "\n",
       "                   Created  \n",
       "0  2021-10-10 19:16:58.297  \n",
       "1  2021-10-10 19:19:03.650  \n",
       "2  2021-10-10 19:40:06.510  \n",
       "3  2021-10-10 19:49:03.867  \n",
       "4  2021-10-10 19:50:06.037  "
      ]
     },
     "execution_count": 92,
     "metadata": {},
     "output_type": "execute_result"
    }
   ],
   "source": [
    "customer_wallet.head()"
   ]
  },
  {
   "cell_type": "code",
   "execution_count": 93,
   "id": "3973c1b6",
   "metadata": {},
   "outputs": [
    {
     "name": "stdout",
     "output_type": "stream",
     "text": [
      "<class 'pandas.core.frame.DataFrame'>\n",
      "RangeIndex: 38294 entries, 0 to 38293\n",
      "Data columns (total 7 columns):\n",
      " #   Column          Non-Null Count  Dtype  \n",
      "---  ------          --------------  -----  \n",
      " 0   WalletActionId  38294 non-null  int64  \n",
      " 1   UserProfileId   38294 non-null  int64  \n",
      " 2   Type            38294 non-null  int64  \n",
      " 3   TypeSysname     38294 non-null  object \n",
      " 4   Amount          38294 non-null  float64\n",
      " 5   MethodSysname   38294 non-null  object \n",
      " 6   Created         38294 non-null  object \n",
      "dtypes: float64(1), int64(3), object(3)\n",
      "memory usage: 2.0+ MB\n"
     ]
    }
   ],
   "source": [
    "customer_wallet.info()"
   ]
  },
  {
   "cell_type": "code",
   "execution_count": 94,
   "id": "d150459c",
   "metadata": {},
   "outputs": [],
   "source": [
    "customer_wallet.Created = pd.to_datetime(customer_wallet.Created)\n",
    "customer_wallet.head()"
   ]
  },
  {
   "cell_type": "code",
   "execution_count": 95,
   "id": "f9b9a26c",
   "metadata": {},
   "outputs": [
    {
     "name": "stderr",
     "output_type": "stream",
     "text": [
      "C:\\Users\\panos\\AppData\\Local\\Temp/ipykernel_31496/2262511137.py:6: SettingWithCopyWarning: \n",
      "A value is trying to be set on a copy of a slice from a DataFrame\n",
      "\n",
      "See the caveats in the documentation: https://pandas.pydata.org/pandas-docs/stable/user_guide/indexing.html#returning-a-view-versus-a-copy\n",
      "  customer_wallet.Interval[mask3] = np.nan\n"
     ]
    },
    {
     "data": {
      "text/html": [
       "<div>\n",
       "<style scoped>\n",
       "    .dataframe tbody tr th:only-of-type {\n",
       "        vertical-align: middle;\n",
       "    }\n",
       "\n",
       "    .dataframe tbody tr th {\n",
       "        vertical-align: top;\n",
       "    }\n",
       "\n",
       "    .dataframe thead th {\n",
       "        text-align: right;\n",
       "    }\n",
       "</style>\n",
       "<table border=\"1\" class=\"dataframe\">\n",
       "  <thead>\n",
       "    <tr style=\"text-align: right;\">\n",
       "      <th></th>\n",
       "      <th>WalletActionId</th>\n",
       "      <th>UserProfileId</th>\n",
       "      <th>Type</th>\n",
       "      <th>TypeSysname</th>\n",
       "      <th>Amount</th>\n",
       "      <th>MethodSysname</th>\n",
       "      <th>Created</th>\n",
       "      <th>Interval</th>\n",
       "    </tr>\n",
       "  </thead>\n",
       "  <tbody>\n",
       "    <tr>\n",
       "      <th>22277</th>\n",
       "      <td>27187795</td>\n",
       "      <td>1248186</td>\n",
       "      <td>1</td>\n",
       "      <td>DEPOSIT</td>\n",
       "      <td>30.0</td>\n",
       "      <td>VisaCard</td>\n",
       "      <td>2021-09-09 14:51:01.043</td>\n",
       "      <td>0</td>\n",
       "    </tr>\n",
       "    <tr>\n",
       "      <th>25153</th>\n",
       "      <td>27660573</td>\n",
       "      <td>1248186</td>\n",
       "      <td>1</td>\n",
       "      <td>DEPOSIT</td>\n",
       "      <td>20.0</td>\n",
       "      <td>VisaCard</td>\n",
       "      <td>2021-09-16 14:46:47.330</td>\n",
       "      <td>6</td>\n",
       "    </tr>\n",
       "    <tr>\n",
       "      <th>25230</th>\n",
       "      <td>27723751</td>\n",
       "      <td>1248186</td>\n",
       "      <td>1</td>\n",
       "      <td>DEPOSIT</td>\n",
       "      <td>30.0</td>\n",
       "      <td>VisaCard</td>\n",
       "      <td>2021-09-17 15:54:32.667</td>\n",
       "      <td>1</td>\n",
       "    </tr>\n",
       "    <tr>\n",
       "      <th>27513</th>\n",
       "      <td>28006420</td>\n",
       "      <td>1248186</td>\n",
       "      <td>1</td>\n",
       "      <td>DEPOSIT</td>\n",
       "      <td>30.0</td>\n",
       "      <td>VisaCard</td>\n",
       "      <td>2021-09-22 14:59:03.603</td>\n",
       "      <td>4</td>\n",
       "    </tr>\n",
       "    <tr>\n",
       "      <th>22974</th>\n",
       "      <td>27716034</td>\n",
       "      <td>1358038</td>\n",
       "      <td>1</td>\n",
       "      <td>DEPOSIT</td>\n",
       "      <td>10.0</td>\n",
       "      <td>VisaCard</td>\n",
       "      <td>2021-09-17 13:41:52.863</td>\n",
       "      <td>0</td>\n",
       "    </tr>\n",
       "  </tbody>\n",
       "</table>\n",
       "</div>"
      ],
      "text/plain": [
       "       WalletActionId  UserProfileId  Type TypeSysname  Amount MethodSysname  \\\n",
       "22277        27187795        1248186     1     DEPOSIT    30.0      VisaCard   \n",
       "25153        27660573        1248186     1     DEPOSIT    20.0      VisaCard   \n",
       "25230        27723751        1248186     1     DEPOSIT    30.0      VisaCard   \n",
       "27513        28006420        1248186     1     DEPOSIT    30.0      VisaCard   \n",
       "22974        27716034        1358038     1     DEPOSIT    10.0      VisaCard   \n",
       "\n",
       "                      Created  Interval  \n",
       "22277 2021-09-09 14:51:01.043         0  \n",
       "25153 2021-09-16 14:46:47.330         6  \n",
       "25230 2021-09-17 15:54:32.667         1  \n",
       "27513 2021-09-22 14:59:03.603         4  \n",
       "22974 2021-09-17 13:41:52.863         0  "
      ]
     },
     "execution_count": 95,
     "metadata": {},
     "output_type": "execute_result"
    }
   ],
   "source": [
    "customer_wallet = customer_wallet.sort_values(by=['UserProfileId', 'Type', 'Created'])\n",
    "customer_wallet['Interval'] = customer_wallet.Created.diff().apply(lambda x: x/np.timedelta64(1, 'D'))\n",
    "mask = customer_wallet[['UserProfileId']] != customer_wallet[['UserProfileId']].shift(1) \n",
    "mask1 = customer_wallet[['Type']] != customer_wallet[['Type']].shift(1) \n",
    "mask3 = mask.UserProfileId + mask1.Type\n",
    "customer_wallet.Interval[mask3] = np.nan\n",
    "customer_wallet.Interval = customer_wallet.Interval.fillna(0).astype(int)\n",
    "customer_wallet.head()"
   ]
  },
  {
   "cell_type": "code",
   "execution_count": 96,
   "id": "b2910d2f",
   "metadata": {},
   "outputs": [
    {
     "data": {
      "text/plain": [
       "WalletActionId    38292\n",
       "UserProfileId      2392\n",
       "Type                  2\n",
       "TypeSysname           2\n",
       "Amount             1518\n",
       "MethodSysname        15\n",
       "Created           38294\n",
       "Interval             57\n",
       "dtype: int64"
      ]
     },
     "execution_count": 96,
     "metadata": {},
     "output_type": "execute_result"
    }
   ],
   "source": [
    "customer_wallet.nunique()"
   ]
  },
  {
   "cell_type": "code",
   "execution_count": 97,
   "id": "d3129a41",
   "metadata": {},
   "outputs": [
    {
     "data": {
      "text/plain": [
       "1508180    767\n",
       "1515544    417\n",
       "1510390    354\n",
       "1520982    332\n",
       "1526050    268\n",
       "          ... \n",
       "1545894      1\n",
       "1546122      1\n",
       "1546163      1\n",
       "1546216      1\n",
       "1574252      1\n",
       "Name: UserProfileId, Length: 2392, dtype: int64"
      ]
     },
     "execution_count": 97,
     "metadata": {},
     "output_type": "execute_result"
    }
   ],
   "source": [
    "customer_wallet.UserProfileId.value_counts()"
   ]
  },
  {
   "cell_type": "code",
   "execution_count": 98,
   "id": "58585829",
   "metadata": {},
   "outputs": [
    {
     "data": {
      "text/plain": [
       "0"
      ]
     },
     "execution_count": 98,
     "metadata": {},
     "output_type": "execute_result"
    }
   ],
   "source": [
    "customer_wallet.duplicated().sum()"
   ]
  },
  {
   "cell_type": "code",
   "execution_count": 99,
   "id": "613956ab",
   "metadata": {},
   "outputs": [
    {
     "data": {
      "text/plain": [
       "WalletActionId    0\n",
       "UserProfileId     0\n",
       "Type              0\n",
       "TypeSysname       0\n",
       "Amount            0\n",
       "MethodSysname     0\n",
       "Created           0\n",
       "Interval          0\n",
       "dtype: int64"
      ]
     },
     "execution_count": 99,
     "metadata": {},
     "output_type": "execute_result"
    }
   ],
   "source": [
    "customer_wallet.isnull().sum()"
   ]
  },
  {
   "cell_type": "code",
   "execution_count": 100,
   "id": "9bdae77a",
   "metadata": {},
   "outputs": [
    {
     "data": {
      "text/plain": [
       "1    33302\n",
       "2     4992\n",
       "Name: Type, dtype: int64"
      ]
     },
     "execution_count": 100,
     "metadata": {},
     "output_type": "execute_result"
    }
   ],
   "source": [
    "customer_wallet.Type.value_counts()"
   ]
  },
  {
   "cell_type": "code",
   "execution_count": 101,
   "id": "22b3742a",
   "metadata": {},
   "outputs": [
    {
     "data": {
      "text/plain": [
       "DEPOSIT     33302\n",
       "WITHDRAW     4992\n",
       "Name: TypeSysname, dtype: int64"
      ]
     },
     "execution_count": 101,
     "metadata": {},
     "output_type": "execute_result"
    }
   ],
   "source": [
    "customer_wallet.TypeSysname.value_counts()"
   ]
  },
  {
   "cell_type": "code",
   "execution_count": 102,
   "id": "ff21d827",
   "metadata": {},
   "outputs": [
    {
     "data": {
      "text/plain": [
       "VisaCard          25539\n",
       "PSCPaysafeCard     6636\n",
       "DIASDTM            2347\n",
       "PayPal             1677\n",
       "Envoy               827\n",
       "PayPal1Click        510\n",
       "DIASMyBank          399\n",
       "Trustly             211\n",
       "Skrill               42\n",
       "VivaWallet           36\n",
       "Skrill1tap           31\n",
       "RapidTransfer        22\n",
       "Moneybookers         13\n",
       "Neteller              3\n",
       "MoneySafe             1\n",
       "Name: MethodSysname, dtype: int64"
      ]
     },
     "execution_count": 102,
     "metadata": {},
     "output_type": "execute_result"
    }
   ],
   "source": [
    "customer_wallet.MethodSysname.value_counts()"
   ]
  },
  {
   "cell_type": "code",
   "execution_count": 103,
   "id": "f85327a8",
   "metadata": {},
   "outputs": [
    {
     "data": {
      "text/plain": [
       "count     38294.000000\n",
       "mean         56.193454\n",
       "std        4486.064151\n",
       "min     -400000.000000\n",
       "25%          10.000000\n",
       "50%          10.000000\n",
       "75%          30.000000\n",
       "max      200000.000000\n",
       "Name: Amount, dtype: float64"
      ]
     },
     "execution_count": 103,
     "metadata": {},
     "output_type": "execute_result"
    }
   ],
   "source": [
    "customer_wallet.Amount.describe()"
   ]
  },
  {
   "cell_type": "markdown",
   "id": "9d8e28af",
   "metadata": {},
   "source": [
    "## Casino Games EDA"
   ]
  },
  {
   "cell_type": "code",
   "execution_count": 104,
   "id": "4f6f6464",
   "metadata": {},
   "outputs": [
    {
     "data": {
      "text/html": [
       "<div>\n",
       "<style scoped>\n",
       "    .dataframe tbody tr th:only-of-type {\n",
       "        vertical-align: middle;\n",
       "    }\n",
       "\n",
       "    .dataframe tbody tr th {\n",
       "        vertical-align: top;\n",
       "    }\n",
       "\n",
       "    .dataframe thead th {\n",
       "        text-align: right;\n",
       "    }\n",
       "</style>\n",
       "<table border=\"1\" class=\"dataframe\">\n",
       "  <thead>\n",
       "    <tr style=\"text-align: right;\">\n",
       "      <th></th>\n",
       "      <th>Casino_Provider</th>\n",
       "      <th>UserID</th>\n",
       "      <th>IsJackpotWinID</th>\n",
       "      <th>IsFreeSpinID</th>\n",
       "      <th>Date</th>\n",
       "      <th>IsLiveID</th>\n",
       "      <th>Hold</th>\n",
       "    </tr>\n",
       "  </thead>\n",
       "  <tbody>\n",
       "    <tr>\n",
       "      <th>0</th>\n",
       "      <td>Iforium</td>\n",
       "      <td>984532</td>\n",
       "      <td>0</td>\n",
       "      <td>0</td>\n",
       "      <td>2021-09-07</td>\n",
       "      <td>0</td>\n",
       "      <td>185.0</td>\n",
       "    </tr>\n",
       "    <tr>\n",
       "      <th>1</th>\n",
       "      <td>Nyx</td>\n",
       "      <td>1531182</td>\n",
       "      <td>0</td>\n",
       "      <td>0</td>\n",
       "      <td>2021-09-29</td>\n",
       "      <td>0</td>\n",
       "      <td>85.1</td>\n",
       "    </tr>\n",
       "    <tr>\n",
       "      <th>2</th>\n",
       "      <td>PragmaticPlay</td>\n",
       "      <td>1149364</td>\n",
       "      <td>0</td>\n",
       "      <td>0</td>\n",
       "      <td>2021-09-03</td>\n",
       "      <td>0</td>\n",
       "      <td>243.6</td>\n",
       "    </tr>\n",
       "    <tr>\n",
       "      <th>3</th>\n",
       "      <td>PlayNGo</td>\n",
       "      <td>1130140</td>\n",
       "      <td>0</td>\n",
       "      <td>1</td>\n",
       "      <td>2021-10-02</td>\n",
       "      <td>0</td>\n",
       "      <td>-218.4</td>\n",
       "    </tr>\n",
       "    <tr>\n",
       "      <th>4</th>\n",
       "      <td>PlayTech</td>\n",
       "      <td>1009509</td>\n",
       "      <td>0</td>\n",
       "      <td>0</td>\n",
       "      <td>2021-09-25</td>\n",
       "      <td>0</td>\n",
       "      <td>-5.4</td>\n",
       "    </tr>\n",
       "  </tbody>\n",
       "</table>\n",
       "</div>"
      ],
      "text/plain": [
       "  Casino_Provider   UserID  IsJackpotWinID  IsFreeSpinID        Date  \\\n",
       "0         Iforium   984532               0             0  2021-09-07   \n",
       "1             Nyx  1531182               0             0  2021-09-29   \n",
       "2   PragmaticPlay  1149364               0             0  2021-09-03   \n",
       "3         PlayNGo  1130140               0             1  2021-10-02   \n",
       "4        PlayTech  1009509               0             0  2021-09-25   \n",
       "\n",
       "   IsLiveID   Hold  \n",
       "0         0  185.0  \n",
       "1         0   85.1  \n",
       "2         0  243.6  \n",
       "3         0 -218.4  \n",
       "4         0   -5.4  "
      ]
     },
     "execution_count": 104,
     "metadata": {},
     "output_type": "execute_result"
    }
   ],
   "source": [
    "casino_games.head()"
   ]
  },
  {
   "cell_type": "code",
   "execution_count": 105,
   "id": "484ebe16",
   "metadata": {},
   "outputs": [
    {
     "data": {
      "text/plain": [
       "Casino_Provider    0\n",
       "UserID             0\n",
       "IsJackpotWinID     0\n",
       "IsFreeSpinID       0\n",
       "Date               0\n",
       "IsLiveID           0\n",
       "Hold               0\n",
       "dtype: int64"
      ]
     },
     "execution_count": 105,
     "metadata": {},
     "output_type": "execute_result"
    }
   ],
   "source": [
    "casino_games.isnull().sum()"
   ]
  },
  {
   "cell_type": "code",
   "execution_count": 106,
   "id": "0b489225",
   "metadata": {},
   "outputs": [
    {
     "data": {
      "text/plain": [
       "Casino_Provider         13\n",
       "UserID              153350\n",
       "IsJackpotWinID           2\n",
       "IsFreeSpinID             2\n",
       "Date                    62\n",
       "IsLiveID                 2\n",
       "Hold               1276380\n",
       "dtype: int64"
      ]
     },
     "execution_count": 106,
     "metadata": {},
     "output_type": "execute_result"
    }
   ],
   "source": [
    "casino_games.nunique()"
   ]
  },
  {
   "cell_type": "code",
   "execution_count": 107,
   "id": "32aee5ab",
   "metadata": {},
   "outputs": [
    {
     "data": {
      "text/plain": [
       "0"
      ]
     },
     "execution_count": 107,
     "metadata": {},
     "output_type": "execute_result"
    }
   ],
   "source": [
    "casino_games.duplicated().sum()"
   ]
  },
  {
   "cell_type": "code",
   "execution_count": 108,
   "id": "8fbf9786",
   "metadata": {},
   "outputs": [
    {
     "name": "stdout",
     "output_type": "stream",
     "text": [
      "<class 'pandas.core.frame.DataFrame'>\n",
      "RangeIndex: 9823921 entries, 0 to 9823920\n",
      "Data columns (total 7 columns):\n",
      " #   Column           Dtype  \n",
      "---  ------           -----  \n",
      " 0   Casino_Provider  object \n",
      " 1   UserID           int64  \n",
      " 2   IsJackpotWinID   int64  \n",
      " 3   IsFreeSpinID     int64  \n",
      " 4   Date             object \n",
      " 5   IsLiveID         int64  \n",
      " 6   Hold             float64\n",
      "dtypes: float64(1), int64(4), object(2)\n",
      "memory usage: 524.7+ MB\n"
     ]
    }
   ],
   "source": [
    "casino_games.info()"
   ]
  },
  {
   "cell_type": "code",
   "execution_count": 109,
   "id": "aa43009c",
   "metadata": {},
   "outputs": [
    {
     "data": {
      "text/plain": [
       "PlayTech           2800617\n",
       "PlayNGo            1977991\n",
       "PragmaticPlay      1474608\n",
       "Nyx                 946275\n",
       "NetEnt              861109\n",
       "Iforium             846699\n",
       "RedTiger            604913\n",
       "Skywind             138956\n",
       "Evolution           117923\n",
       "Oryx                 30383\n",
       "MicroGaming          17369\n",
       "Edict                 4974\n",
       "EvolutionDirect       2104\n",
       "Name: Casino_Provider, dtype: int64"
      ]
     },
     "execution_count": 109,
     "metadata": {},
     "output_type": "execute_result"
    }
   ],
   "source": [
    "casino_games.Casino_Provider.value_counts()"
   ]
  },
  {
   "cell_type": "code",
   "execution_count": 110,
   "id": "91114b05",
   "metadata": {},
   "outputs": [
    {
     "data": {
      "text/plain": [
       "0    9823273\n",
       "1        648\n",
       "Name: IsJackpotWinID, dtype: int64"
      ]
     },
     "execution_count": 110,
     "metadata": {},
     "output_type": "execute_result"
    }
   ],
   "source": [
    "casino_games.IsJackpotWinID.value_counts()"
   ]
  },
  {
   "cell_type": "code",
   "execution_count": 111,
   "id": "0b37e1a3",
   "metadata": {},
   "outputs": [
    {
     "data": {
      "text/plain": [
       "0    5440719\n",
       "1    4383202\n",
       "Name: IsFreeSpinID, dtype: int64"
      ]
     },
     "execution_count": 111,
     "metadata": {},
     "output_type": "execute_result"
    }
   ],
   "source": [
    "casino_games.IsFreeSpinID.value_counts()"
   ]
  },
  {
   "cell_type": "code",
   "execution_count": 112,
   "id": "bed72fc7",
   "metadata": {},
   "outputs": [
    {
     "data": {
      "text/plain": [
       "0    9153258\n",
       "1     670663\n",
       "Name: IsLiveID, dtype: int64"
      ]
     },
     "execution_count": 112,
     "metadata": {},
     "output_type": "execute_result"
    }
   ],
   "source": [
    "casino_games.IsLiveID.value_counts()"
   ]
  },
  {
   "cell_type": "code",
   "execution_count": 113,
   "id": "68ee7839",
   "metadata": {},
   "outputs": [
    {
     "data": {
      "text/plain": [
       "count    9.823921e+06\n",
       "mean     7.459068e+01\n",
       "std      1.040730e+04\n",
       "min     -1.869985e+07\n",
       "25%     -1.710000e+01\n",
       "50%     -1.500000e+00\n",
       "75%      4.768000e+01\n",
       "max      1.617226e+07\n",
       "Name: Hold, dtype: float64"
      ]
     },
     "execution_count": 113,
     "metadata": {},
     "output_type": "execute_result"
    }
   ],
   "source": [
    "casino_games.Hold.describe()"
   ]
  },
  {
   "cell_type": "code",
   "execution_count": null,
   "id": "47aa530d",
   "metadata": {},
   "outputs": [],
   "source": []
  }
 ],
 "metadata": {
  "kernelspec": {
   "display_name": "Python 3 (ipykernel)",
   "language": "python",
   "name": "python3"
  },
  "language_info": {
   "codemirror_mode": {
    "name": "ipython",
    "version": 3
   },
   "file_extension": ".py",
   "mimetype": "text/x-python",
   "name": "python",
   "nbconvert_exporter": "python",
   "pygments_lexer": "ipython3",
   "version": "3.9.7"
  }
 },
 "nbformat": 4,
 "nbformat_minor": 5
}
